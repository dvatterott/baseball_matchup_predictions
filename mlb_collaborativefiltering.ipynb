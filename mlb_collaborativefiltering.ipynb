{
 "cells": [
  {
   "cell_type": "markdown",
   "metadata": {},
   "source": [
    "https://github.com/christopherjenness/NBA-prediction\n",
    "https://github.com/fastai/courses/blob/master/deeplearning1/nbs/utils.py"
   ]
  },
  {
   "cell_type": "code",
   "execution_count": 1,
   "metadata": {},
   "outputs": [
    {
     "name": "stderr",
     "output_type": "stream",
     "text": [
      "Using TensorFlow backend.\n"
     ]
    },
    {
     "name": "stdout",
     "output_type": "stream",
     "text": [
      "CPython 3.5.3\n",
      "IPython 5.1.0\n",
      "\n",
      "numpy 1.11.3\n",
      "pandas 0.19.2\n",
      "keras 1.2.0\n",
      "tensorflow 0.10.0rc0\n",
      "\n",
      "compiler   : GCC 4.4.7 20120313 (Red Hat 4.4.7-1)\n",
      "system     : Linux\n",
      "release    : 4.4.0-72-generic\n",
      "machine    : x86_64\n",
      "processor  : x86_64\n",
      "CPU cores  : 4\n",
      "interpreter: 64bit\n",
      "Git hash   : 72c5182d31686b9c85995ce2b433353f418c2b9d\n"
     ]
    }
   ],
   "source": [
    "%load_ext watermark\n",
    "%watermark -v -m -p numpy,pandas,keras,tensorflow -g"
   ]
  },
  {
   "cell_type": "code",
   "execution_count": 2,
   "metadata": {
    "collapsed": true
   },
   "outputs": [],
   "source": [
    "import pandas as pd\n",
    "\n",
    "df = pd.read_pickle('./2016_scores.pkl')"
   ]
  },
  {
   "cell_type": "code",
   "execution_count": 3,
   "metadata": {},
   "outputs": [
    {
     "data": {
      "text/html": [
       "<div>\n",
       "<table border=\"1\" class=\"dataframe\">\n",
       "  <thead>\n",
       "    <tr style=\"text-align: right;\">\n",
       "      <th></th>\n",
       "      <th>away_score</th>\n",
       "      <th>away_team</th>\n",
       "      <th>home_score</th>\n",
       "      <th>home_team</th>\n",
       "      <th>difference</th>\n",
       "    </tr>\n",
       "  </thead>\n",
       "  <tbody>\n",
       "    <tr>\n",
       "      <th>0</th>\n",
       "      <td>5</td>\n",
       "      <td>Toronto Blue Jays</td>\n",
       "      <td>3</td>\n",
       "      <td>Tampa Bay Rays</td>\n",
       "      <td>-2</td>\n",
       "    </tr>\n",
       "    <tr>\n",
       "      <th>1</th>\n",
       "      <td>1</td>\n",
       "      <td>St. Louis Cardinals</td>\n",
       "      <td>4</td>\n",
       "      <td>Pittsburgh Pirates</td>\n",
       "      <td>3</td>\n",
       "    </tr>\n",
       "    <tr>\n",
       "      <th>2</th>\n",
       "      <td>3</td>\n",
       "      <td>New York Mets</td>\n",
       "      <td>4</td>\n",
       "      <td>Kansas City Royals</td>\n",
       "      <td>1</td>\n",
       "    </tr>\n",
       "    <tr>\n",
       "      <th>3</th>\n",
       "      <td>2</td>\n",
       "      <td>Seattle Mariners</td>\n",
       "      <td>3</td>\n",
       "      <td>Texas Rangers</td>\n",
       "      <td>1</td>\n",
       "    </tr>\n",
       "    <tr>\n",
       "      <th>4</th>\n",
       "      <td>5</td>\n",
       "      <td>Toronto Blue Jays</td>\n",
       "      <td>3</td>\n",
       "      <td>Tampa Bay Rays</td>\n",
       "      <td>-2</td>\n",
       "    </tr>\n",
       "  </tbody>\n",
       "</table>\n",
       "</div>"
      ],
      "text/plain": [
       "   away_score            away_team  home_score           home_team  difference\n",
       "0           5    Toronto Blue Jays           3      Tampa Bay Rays          -2\n",
       "1           1  St. Louis Cardinals           4  Pittsburgh Pirates           3\n",
       "2           3        New York Mets           4  Kansas City Royals           1\n",
       "3           2     Seattle Mariners           3       Texas Rangers           1\n",
       "4           5    Toronto Blue Jays           3      Tampa Bay Rays          -2"
      ]
     },
     "execution_count": 3,
     "metadata": {},
     "output_type": "execute_result"
    }
   ],
   "source": [
    "df['difference'] = df['home_score'] - df['away_score']\n",
    "df.head()"
   ]
  },
  {
   "cell_type": "code",
   "execution_count": 4,
   "metadata": {
    "collapsed": true
   },
   "outputs": [],
   "source": [
    "list_of_teams = list(df['away_team'].unique()) "
   ]
  },
  {
   "cell_type": "code",
   "execution_count": 5,
   "metadata": {
    "collapsed": true
   },
   "outputs": [],
   "source": [
    "list_of_teams = df['away_team'].unique()\n",
    "n_teams = len(list_of_teams)\n",
    "\n",
    "teamid2idx = {o:i for i,o in enumerate(list_of_teams)}\n",
    "idx2teamid = {teamid2idx[key]:key for key in teamid2idx.keys()}"
   ]
  },
  {
   "cell_type": "code",
   "execution_count": 6,
   "metadata": {
    "collapsed": true
   },
   "outputs": [],
   "source": [
    "df.away_team = df.away_team.apply(lambda x: teamid2idx[x])\n",
    "df.home_team = df.home_team.apply(lambda x: teamid2idx[x])"
   ]
  },
  {
   "cell_type": "code",
   "execution_count": 7,
   "metadata": {
    "collapsed": true
   },
   "outputs": [],
   "source": [
    "import numpy as np\n",
    "\n",
    "msk = np.random.rand(len(df)) < 0.8\n",
    "trn = df[msk]\n",
    "val = df[~msk]"
   ]
  },
  {
   "cell_type": "code",
   "execution_count": 8,
   "metadata": {
    "collapsed": true
   },
   "outputs": [],
   "source": [
    "from keras.layers import Input, Embedding, merge\n",
    "from keras.layers.core import Flatten\n",
    "from keras.models import Model\n",
    "from keras.regularizers import l2\n",
    "from keras.optimizers import Adam"
   ]
  },
  {
   "cell_type": "code",
   "execution_count": 9,
   "metadata": {
    "collapsed": true
   },
   "outputs": [],
   "source": [
    "def embedding_input(name, n_in, n_out, reg):\n",
    "    inp = Input(shape=(1,), dtype='int64', name=name)\n",
    "    return inp, Embedding(n_in, n_out, input_length=1, W_regularizer=l2(reg))(inp)"
   ]
  },
  {
   "cell_type": "code",
   "execution_count": 10,
   "metadata": {
    "collapsed": true
   },
   "outputs": [],
   "source": [
    "def create_bias(inp, n_in):\n",
    "    x = Embedding(n_in, 1, input_length=1)(inp)\n",
    "    return Flatten()(x)"
   ]
  },
  {
   "cell_type": "code",
   "execution_count": 11,
   "metadata": {
    "collapsed": true
   },
   "outputs": [],
   "source": [
    "n_factors = 2\n",
    "\n",
    "away_in = Input(shape=(1,), dtype='int64', name='away_in')\n",
    "home_in = Input(shape=(1,), dtype='int64', name='home_in')\n",
    "\n",
    "embedding_layer = Embedding(n_teams, n_factors, input_length=1, W_regularizer=l2(1e-4))\n",
    "\n",
    "#away_in, a = embedding_input('away_in', n_teams, n_factors, 1e-4)\n",
    "#home_in, h = embedding_input('home_in', n_teams, n_factors, 1e-4)\n",
    "\n",
    "a = embedding_layer(away_in)\n",
    "h = embedding_layer(home_in)\n",
    "\n",
    "ab = create_bias(away_in, n_teams)\n",
    "hb = create_bias(home_in, n_teams)\n",
    "\n",
    "x = merge([a, h], mode='dot')\n",
    "x = Flatten()(x)\n",
    "x = merge([x, ab], mode='sum')\n",
    "x = merge([x, hb], mode='sum')\n",
    "model = Model([away_in, home_in], x)\n",
    "model.compile(Adam(0.001), loss='mse')"
   ]
  },
  {
   "cell_type": "code",
   "execution_count": 12,
   "metadata": {},
   "outputs": [
    {
     "name": "stdout",
     "output_type": "stream",
     "text": [
      "Train on 1959 samples, validate on 504 samples\n",
      "Epoch 1/1\n",
      "1959/1959 [==============================] - 0s - loss: 18.3939 - val_loss: 19.2317\n"
     ]
    },
    {
     "data": {
      "text/plain": [
       "<keras.callbacks.History at 0x7f390df3aeb8>"
      ]
     },
     "execution_count": 12,
     "metadata": {},
     "output_type": "execute_result"
    }
   ],
   "source": [
    "model.fit([trn.away_team, trn.home_team], trn.difference, batch_size=64, nb_epoch=1, \n",
    "          validation_data=([val.away_team, val.home_team], val.difference))"
   ]
  },
  {
   "cell_type": "code",
   "execution_count": 13,
   "metadata": {},
   "outputs": [
    {
     "name": "stdout",
     "output_type": "stream",
     "text": [
      "Train on 1959 samples, validate on 504 samples\n",
      "Epoch 1/6\n",
      "1959/1959 [==============================] - 0s - loss: 18.3673 - val_loss: 19.2271\n",
      "Epoch 2/6\n",
      "1959/1959 [==============================] - 0s - loss: 18.3447 - val_loss: 19.2208: 18.42\n",
      "Epoch 3/6\n",
      "1959/1959 [==============================] - 0s - loss: 18.3232 - val_loss: 19.2184\n",
      "Epoch 4/6\n",
      "1959/1959 [==============================] - 0s - loss: 18.3002 - val_loss: 19.2128\n",
      "Epoch 5/6\n",
      "1959/1959 [==============================] - 0s - loss: 18.2789 - val_loss: 19.2074\n",
      "Epoch 6/6\n",
      "1959/1959 [==============================] - 0s - loss: 18.2568 - val_loss: 19.2036\n"
     ]
    },
    {
     "data": {
      "text/plain": [
       "<keras.callbacks.History at 0x7f390de2b080>"
      ]
     },
     "execution_count": 13,
     "metadata": {},
     "output_type": "execute_result"
    }
   ],
   "source": [
    "model.optimizer.lr=0.01\n",
    "model.fit([trn.away_team, trn.home_team], trn.difference, batch_size=64, nb_epoch=6, \n",
    "          validation_data=([val.away_team, val.home_team], val.difference))"
   ]
  },
  {
   "cell_type": "code",
   "execution_count": 14,
   "metadata": {},
   "outputs": [
    {
     "name": "stdout",
     "output_type": "stream",
     "text": [
      "Train on 1959 samples, validate on 504 samples\n",
      "Epoch 1/5\n",
      "1959/1959 [==============================] - 0s - loss: 18.2359 - val_loss: 19.2007\n",
      "Epoch 2/5\n",
      "1959/1959 [==============================] - 0s - loss: 18.2140 - val_loss: 19.1982\n",
      "Epoch 3/5\n",
      "1959/1959 [==============================] - 0s - loss: 18.1922 - val_loss: 19.1933\n",
      "Epoch 4/5\n",
      "1959/1959 [==============================] - 0s - loss: 18.1710 - val_loss: 19.1917\n",
      "Epoch 5/5\n",
      "1959/1959 [==============================] - 0s - loss: 18.1485 - val_loss: 19.1912\n"
     ]
    },
    {
     "data": {
      "text/plain": [
       "<keras.callbacks.History at 0x7f390de2b668>"
      ]
     },
     "execution_count": 14,
     "metadata": {},
     "output_type": "execute_result"
    }
   ],
   "source": [
    "model.optimizer.lr=0.001\n",
    "model.fit([trn.away_team, trn.home_team], trn.difference, batch_size=64, nb_epoch=5, \n",
    "          validation_data=([val.away_team, val.home_team], val.difference))"
   ]
  },
  {
   "cell_type": "markdown",
   "metadata": {},
   "source": [
    "https://github.com/fastai/courses/blob/master/deeplearning1/nbs/lesson4.ipynb"
   ]
  },
  {
   "cell_type": "code",
   "execution_count": 15,
   "metadata": {},
   "outputs": [
    {
     "data": {
      "text/plain": [
       "[(0.19213127, 'Philadelphia Phillies'),\n",
       " (0.13538371, 'Colorado Rockies'),\n",
       " (0.1154874, 'Cincinnati Reds'),\n",
       " (0.10293819, 'San Diego Padres'),\n",
       " (0.091762304, 'New York Yankees'),\n",
       " (0.086704448, 'Atlanta Braves'),\n",
       " (0.086652882, 'Chicago White Sox'),\n",
       " (0.073435932, 'Milwaukee Brewers'),\n",
       " (0.066562518, \"Arizona D'Backs\"),\n",
       " (0.054421984, 'Baltimore Orioles'),\n",
       " (0.050462101, 'Kansas City Royals'),\n",
       " (0.041441962, 'LA Angels of Anaheim'),\n",
       " (0.033019256, 'Houston Astros'),\n",
       " (0.021627087, 'Tampa Bay Rays'),\n",
       " (0.01519491, 'Miami Marlins')]"
      ]
     },
     "execution_count": 15,
     "metadata": {},
     "output_type": "execute_result"
    }
   ],
   "source": [
    "get_away_bias = Model(away_in, ab)\n",
    "away_bias = get_away_bias.predict(df.away_team.unique())\n",
    "away_rating = [(b[0], idx2teamid[i]) for i,b in zip(df.away_team.unique(),away_bias)]              \n",
    "                \n",
    "sorted(away_rating,  key=lambda x: x[0], reverse=True)[:15]"
   ]
  },
  {
   "cell_type": "code",
   "execution_count": 16,
   "metadata": {},
   "outputs": [
    {
     "data": {
      "text/plain": [
       "[(-0.16621463, 'Washington Nationals'),\n",
       " (-0.1011001, 'Toronto Blue Jays'),\n",
       " (-0.094313346, 'Boston Red Sox'),\n",
       " (-0.082905471, 'St. Louis Cardinals'),\n",
       " (-0.071792163, 'Chicago Cubs'),\n",
       " (-0.07038597, 'New York Mets'),\n",
       " (-0.054257698, 'San Francisco Giants'),\n",
       " (-0.050478533, 'Texas Rangers'),\n",
       " (-0.028976118, 'Seattle Mariners'),\n",
       " (-0.028675666, 'Pittsburgh Pirates'),\n",
       " (-0.010899131, 'Oakland Athletics'),\n",
       " (0.0073902896, 'Cleveland Indians'),\n",
       " (0.0084861945, 'Detroit Tigers'),\n",
       " (0.014417341, 'Minnesota Twins'),\n",
       " (0.014768536, 'Los Angeles Dodgers')]"
      ]
     },
     "execution_count": 16,
     "metadata": {},
     "output_type": "execute_result"
    }
   ],
   "source": [
    "sorted(away_rating,  key=lambda x: x[0])[:15]"
   ]
  },
  {
   "cell_type": "code",
   "execution_count": 17,
   "metadata": {
    "collapsed": true
   },
   "outputs": [],
   "source": [
    "mse = []\n",
    "for i in range(100):\n",
    "    shuff_scores = df.difference.values.copy()\n",
    "    np.random.shuffle(shuff_scores)\n",
    "    t_mse = np.mean((df.difference-shuff_scores)**2)\n",
    "    mse.append(t_mse) "
   ]
  },
  {
   "cell_type": "code",
   "execution_count": 18,
   "metadata": {},
   "outputs": [
    {
     "data": {
      "image/png": "[encoded data removed]",
      "text/plain": [
       "<matplotlib.figure.Figure at 0x7f390de2be48>"
      ]
     },
     "metadata": {},
     "output_type": "display_data"
    }
   ],
   "source": [
    "import matplotlib.pyplot as plt\n",
    "%matplotlib inline\n",
    "\n",
    "plt.hist(mse);"
   ]
  },
  {
   "cell_type": "code",
   "execution_count": 23,
   "metadata": {},
   "outputs": [
    {
     "data": {
      "text/plain": [
       "0"
      ]
     },
     "execution_count": 23,
     "metadata": {},
     "output_type": "execute_result"
    }
   ],
   "source": [
    "teams[1].away_team"
   ]
  },
  {
   "cell_type": "code",
   "execution_count": 31,
   "metadata": {},
   "outputs": [
    {
     "name": "stdout",
     "output_type": "stream",
     "text": [
      "18.3493827748383\n"
     ]
    }
   ],
   "source": [
    "predictions = model.predict([df.away_team.values, df.home_team.values])\n",
    "t_mse = (df.difference-np.squeeze(predictions))**2\n",
    "print(np.mean(t_mse))"
   ]
  },
  {
   "cell_type": "code",
   "execution_count": 35,
   "metadata": {},
   "outputs": [
    {
     "name": "stdout",
     "output_type": "stream",
     "text": [
      "18.589783174166605\n"
     ]
    }
   ],
   "source": [
    "predictions = model.predict([df.away_team.values, df.home_team.values])\n",
    "np.random.shuffle(predictions)\n",
    "t_mse = (df.difference-np.squeeze(predictions))**2\n",
    "print(np.mean(t_mse))"
   ]
  },
  {
   "cell_type": "code",
   "execution_count": 37,
   "metadata": {},
   "outputs": [
    {
     "data": {
      "text/plain": [
       "array([[-0.06541088],\n",
       "       [ 0.15904462],\n",
       "       [ 0.03773554],\n",
       "       [-0.12947126],\n",
       "       [-0.05763809],\n",
       "       [-0.09660609],\n",
       "       [ 0.19942555],\n",
       "       [ 0.28710777],\n",
       "       [ 0.07351479],\n",
       "       [-0.0760739 ]], dtype=float32)"
      ]
     },
     "execution_count": 37,
     "metadata": {},
     "output_type": "execute_result"
    }
   ],
   "source": [
    "predictions[0:10]"
   ]
  },
  {
   "cell_type": "code",
   "execution_count": null,
   "metadata": {
    "collapsed": true
   },
   "outputs": [],
   "source": []
  }
 ],
 "metadata": {
  "kernelspec": {
   "display_name": "Python [conda root]",
   "language": "python",
   "name": "conda-root-py"
  },
  "language_info": {
   "codemirror_mode": {
    "name": "ipython",
    "version": 3
   },
   "file_extension": ".py",
   "mimetype": "text/x-python",
   "name": "python",
   "nbconvert_exporter": "python",
   "pygments_lexer": "ipython3",
   "version": "3.5.3"
  }
 },
 "nbformat": 4,
 "nbformat_minor": 2
}
